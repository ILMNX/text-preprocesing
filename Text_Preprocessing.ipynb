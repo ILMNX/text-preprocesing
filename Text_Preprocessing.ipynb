{
 "cells": [
  {
   "cell_type": "code",
   "execution_count": 2,
   "metadata": {},
   "outputs": [],
   "source": [
    "#Import library yang dibutuhkan\n",
    "import csv\n",
    "import nltk\n",
    "import re\n",
    "import pandas as pd\n",
    "import numpy as np\n",
    "import seaborn as sns\n",
    "import matplotlib.pyplot as plt\n",
    "from nltk.tokenize import word_tokenize\n",
    "from Sastrawi.Stemmer.StemmerFactory import StemmerFactory\n",
    "from Sastrawi.StopWordRemover.StopWordRemoverFactory import StopWordRemover, ArrayDictionary\n",
    "import string"
   ]
  },
  {
   "cell_type": "code",
   "execution_count": null,
   "metadata": {},
   "outputs": [],
   "source": [
    "#Membuka file data tweets\n",
    "data_tweet = pd.read_csv(\"file_directory/data.csv\", encoding='latin-1')\n",
    "data_tweet = data_tweet.astype(str)"
   ]
  },
  {
   "cell_type": "code",
   "execution_count": null,
   "metadata": {},
   "outputs": [],
   "source": [
    "#Proses filter\n",
    "def filtering_text(text):\n",
    "    # mengubah tweet menjadi huruf kecil\n",
    "    text = text.lower()\n",
    "    # menghilangkan url\n",
    "    text = re.sub(r'https?:\\/\\/\\S+','',text)\n",
    "    # menghilangkan mention, link, hastag\n",
    "    text = ' '.join(re.sub(\"([@#][A-Za-z0-9]+)|(\\w+:\\/\\/\\S+)\",\" \", text).split())\n",
    "    #menghilangkan karakter byte (b')\n",
    "    text = re.sub(r'(b\\'{1,2})',\"\", text)\n",
    "    # menghilangkan yang bukan huruf\n",
    "    text = re.sub('[^a-zA-Z]', ' ', text)\n",
    "    # menghilangkan digit angka\n",
    "    text = re.sub(r'\\d+', '', text)\n",
    "    #menghilangkan tanda baca\n",
    "    text = text.translate(str.maketrans(\"\",\"\",string.punctuation))\n",
    "    # menghilangkan whitespace berlebih\n",
    "    text = re.sub(r'\\s+', ' ', text).strip()\n",
    "    return text\n",
    "\n",
    "data_tweet['filtered'] = data_tweet['tweet'].apply(filtering_text)\n",
    "print(data_tweet['filtered'].head())"
   ]
  },
  {
   "cell_type": "code",
   "execution_count": null,
   "metadata": {},
   "outputs": [],
   "source": [
    "#Proses stopwords dan stemming\n",
    "def stop_stem(text):\n",
    "    #stopword\n",
    "    with open('file_directory/kamus.txt') as kamus:\n",
    "        word = kamus.readlines()\n",
    "        list_stopword = [line.replace('\\n',\"\") for line in word]\n",
    "    dictionary = ArrayDictionary(list_stopword)\n",
    "    stopword = StopWordRemover(dictionary)\n",
    "    text = stopword.remove(text)\n",
    "    # stemming\n",
    "    factory_stemmer = StemmerFactory()\n",
    "    stemmer = factory_stemmer.create_stemmer()\n",
    "    text = stemmer.stem(text)\n",
    "    return text\n",
    "\n",
    "data_tweet['cleaned'] = data_tweet['filtered'].apply(stop_stem)\n",
    "\n",
    "print(data_tweet['cleaned'].head())"
   ]
  },
  {
   "cell_type": "code",
   "execution_count": null,
   "metadata": {},
   "outputs": [],
   "source": [
    "def word_tokenize_wrapper(text):\n",
    "    return word_tokenize(text)\n",
    "\n",
    "data_tweet['tweet_tokens'] = data_tweet['cleaned'].apply(word_tokenize_wrapper)\n",
    "\n",
    "print(data_tweet['tweet_tokens'].head())"
   ]
  },
  {
   "cell_type": "code",
   "execution_count": null,
   "metadata": {},
   "outputs": [],
   "source": [
    "kamus_normalisasi = pd.read_csv(\"file_directory/slang.csv\")\n",
    "\n",
    "kata_normalisasi_dict = {}\n",
    "\n",
    "for index, row in kamus_normalisasi.iterrows():\n",
    "    if row[0] not in kata_normalisasi_dict:\n",
    "        kata_normalisasi_dict[row[0]] = row[1] \n",
    "        \n",
    "def normalisasi_kata(document):\n",
    "    return [kata_normalisasi_dict[term] if term in kata_normalisasi_dict else term for term in document]\n",
    "\n",
    "data_tweet['normalisasi'] = data_tweet['tweet_tokens'].apply(normalisasi_kata)\n",
    "\n",
    "data_tweet['normalisasi'].head(10)"
   ]
  },
  {
   "cell_type": "code",
   "execution_count": null,
   "metadata": {},
   "outputs": [],
   "source": [
    "data_tweet.to_csv('file_directory/preprocess.csv', index=False)"
   ]
  }
 ],
 "metadata": {
  "kernelspec": {
   "display_name": "Python 3",
   "language": "python",
   "name": "python3"
  },
  "language_info": {
   "codemirror_mode": {
    "name": "ipython",
    "version": 3
   },
   "file_extension": ".py",
   "mimetype": "text/x-python",
   "name": "python",
   "nbconvert_exporter": "python",
   "pygments_lexer": "ipython3",
   "version": "3.8.5"
  }
 },
 "nbformat": 4,
 "nbformat_minor": 4
}
